{
 "cells": [
  {
   "cell_type": "markdown",
   "metadata": {},
   "source": [
    "# Primitive data types"
   ]
  },
  {
   "cell_type": "code",
   "execution_count": 1,
   "metadata": {},
   "outputs": [
    {
     "name": "stdout",
     "output_type": "stream",
     "text": [
      "1000\n"
     ]
    }
   ],
   "source": [
    "student_count = 1000\n",
    "print(student_count)"
   ]
  },
  {
   "cell_type": "code",
   "execution_count": 2,
   "metadata": {},
   "outputs": [
    {
     "data": {
      "text/plain": [
       "float"
      ]
     },
     "execution_count": 2,
     "metadata": {},
     "output_type": "execute_result"
    }
   ],
   "source": [
    "rating = 4.9\n",
    "type(rating)"
   ]
  },
  {
   "cell_type": "code",
   "execution_count": 3,
   "metadata": {},
   "outputs": [
    {
     "data": {
      "text/plain": [
       "bool"
      ]
     },
     "execution_count": 3,
     "metadata": {},
     "output_type": "execute_result"
    }
   ],
   "source": [
    "my_name_is_diksha = False\n",
    "type(my_name_is_diksha)"
   ]
  },
  {
   "cell_type": "code",
   "execution_count": 7,
   "metadata": {},
   "outputs": [],
   "source": [
    "course = \"python for beginner\"\n",
    "message = '''Hi everyone\n",
    "I am diksha prasad from trident\n",
    "as a intern'''"
   ]
  },
  {
   "cell_type": "code",
   "execution_count": 8,
   "metadata": {},
   "outputs": [
    {
     "data": {
      "text/plain": [
       "'Hi everyone\\n \\nI am diksha prasad from trident\\n \\nas a intern'"
      ]
     },
     "execution_count": 8,
     "metadata": {},
     "output_type": "execute_result"
    }
   ],
   "source": [
    "message\n"
   ]
  },
  {
   "cell_type": "code",
   "execution_count": 9,
   "metadata": {},
   "outputs": [
    {
     "data": {
      "text/plain": [
       "str"
      ]
     },
     "execution_count": 9,
     "metadata": {},
     "output_type": "execute_result"
    }
   ],
   "source": [
    "int = '9'\n",
    "type(int)"
   ]
  },
  {
   "cell_type": "code",
   "execution_count": 10,
   "metadata": {},
   "outputs": [
    {
     "ename": "TypeError",
     "evalue": "len() takes exactly one argument (0 given)",
     "output_type": "error",
     "traceback": [
      "\u001b[1;31m---------------------------------------------------------------------------\u001b[0m",
      "\u001b[1;31mTypeError\u001b[0m                                 Traceback (most recent call last)",
      "\u001b[1;32m<ipython-input-10-adf3103c7c3e>\u001b[0m in \u001b[0;36m<module>\u001b[1;34m\u001b[0m\n\u001b[1;32m----> 1\u001b[1;33m \u001b[0mlen\u001b[0m\u001b[1;33m(\u001b[0m\u001b[1;33m)\u001b[0m\u001b[1;33m\u001b[0m\u001b[1;33m\u001b[0m\u001b[0m\n\u001b[0m",
      "\u001b[1;31mTypeError\u001b[0m: len() takes exactly one argument (0 given)"
     ]
    }
   ],
   "source": [
    "len()"
   ]
  },
  {
   "cell_type": "code",
   "execution_count": 20,
   "metadata": {},
   "outputs": [
    {
     "name": "stdout",
     "output_type": "stream",
     "text": [
      "19\n",
      "p\n",
      "r\n",
      "pyt\n",
      "p\n",
      "pyt\n",
      "python for beginner\n",
      "ohty\n"
     ]
    }
   ],
   "source": [
    "print(len(course))\n",
    "print(course[0])\n",
    "print(course[-1])\n",
    "print(course[0:3])\n",
    "print(course[0:1])\n",
    "print(course[:3])\n",
    "print(course[:])\n",
    "print(course[4:0:-1])"
   ]
  },
  {
   "cell_type": "markdown",
   "metadata": {},
   "source": [
    "# FORMATTED STRING"
   ]
  },
  {
   "cell_type": "code",
   "execution_count": 22,
   "metadata": {},
   "outputs": [
    {
     "name": "stdout",
     "output_type": "stream",
     "text": [
      "diksha prasad\n"
     ]
    }
   ],
   "source": [
    "first = \"diksha\"\n",
    "second = \"prasad\"\n",
    "full = first + \" \" + second\n",
    "print(full)"
   ]
  },
  {
   "cell_type": "code",
   "execution_count": 29,
   "metadata": {},
   "outputs": [
    {
     "name": "stdout",
     "output_type": "stream",
     "text": [
      "diksha prasad\n"
     ]
    }
   ],
   "source": [
    "first = \"diksha\"\n",
    "second = \"prasad\"\n",
    "full = f\"{first} {second}\"\n",
    "print(full)"
   ]
  },
  {
   "cell_type": "code",
   "execution_count": 32,
   "metadata": {},
   "outputs": [
    {
     "name": "stdout",
     "output_type": "stream",
     "text": [
      "6 6\n"
     ]
    }
   ],
   "source": [
    "first = \"diksha\"\n",
    "second = \"prasad\"\n",
    "full = f\"{len(first)} {len(second)}\"\n",
    "print(full)"
   ]
  },
  {
   "cell_type": "code",
   "execution_count": 34,
   "metadata": {},
   "outputs": [
    {
     "name": "stdout",
     "output_type": "stream",
     "text": [
      "diksha prasad\n"
     ]
    }
   ],
   "source": [
    "first = \"diksha\"\n",
    "second = \"prasad\"\n",
    "print(f\"{first} {second}\")\n"
   ]
  },
  {
   "cell_type": "code",
   "execution_count": 36,
   "metadata": {},
   "outputs": [
    {
     "name": "stdout",
     "output_type": "stream",
     "text": [
      "DIKSHA PRASAD\n",
      "diksha prasad\n",
      "Diksha Prasad\n",
      "3\n",
      "True\n"
     ]
    }
   ],
   "source": [
    "name = \"diksha prasad\"\n",
    "print(name.upper())\n",
    "print(name.lower())\n",
    "print(name.title())\n",
    "print(name.find(\"sha\"))\n",
    "print(\"singh\" not in name)"
   ]
  },
  {
   "cell_type": "markdown",
   "metadata": {},
   "source": [
    "#some arithmetic operation in python"
   ]
  },
  {
   "cell_type": "code",
   "execution_count": 37,
   "metadata": {},
   "outputs": [
    {
     "name": "stdout",
     "output_type": "stream",
     "text": [
      "13\n",
      "7\n",
      "1\n",
      "3.3333333333333335\n",
      "1000\n"
     ]
    }
   ],
   "source": [
    "print(10+3)\n",
    "print(10-3)\n",
    "print(10%3)\n",
    "print(10/3)\n",
    "print(10**3)"
   ]
  },
  {
   "cell_type": "code",
   "execution_count": 38,
   "metadata": {},
   "outputs": [
    {
     "name": "stdout",
     "output_type": "stream",
     "text": [
      "3\n",
      "2.9\n"
     ]
    }
   ],
   "source": [
    "#working with numbers\n",
    "\n",
    "print(round(3.2))\n",
    "print(abs(-2.9))"
   ]
  },
  {
   "cell_type": "markdown",
   "metadata": {},
   "source": []
  },
  {
   "cell_type": "code",
   "execution_count": 40,
   "metadata": {},
   "outputs": [
    {
     "name": "stdout",
     "output_type": "stream",
     "text": [
      "2\n",
      "6\n"
     ]
    },
    {
     "ename": "AttributeError",
     "evalue": "module 'math' has no attribute 'lcm'",
     "output_type": "error",
     "traceback": [
      "\u001b[1;31m---------------------------------------------------------------------------\u001b[0m",
      "\u001b[1;31mAttributeError\u001b[0m                            Traceback (most recent call last)",
      "\u001b[1;32m<ipython-input-40-d1e0f75f059e>\u001b[0m in \u001b[0;36m<module>\u001b[1;34m\u001b[0m\n\u001b[0;32m      2\u001b[0m \u001b[0mprint\u001b[0m\u001b[1;33m(\u001b[0m\u001b[0mmath\u001b[0m\u001b[1;33m.\u001b[0m\u001b[0mceil\u001b[0m\u001b[1;33m(\u001b[0m\u001b[1;36m1.2\u001b[0m\u001b[1;33m)\u001b[0m\u001b[1;33m)\u001b[0m\u001b[1;33m\u001b[0m\u001b[1;33m\u001b[0m\u001b[0m\n\u001b[0;32m      3\u001b[0m \u001b[0mprint\u001b[0m\u001b[1;33m(\u001b[0m\u001b[0mmath\u001b[0m\u001b[1;33m.\u001b[0m\u001b[0mfactorial\u001b[0m\u001b[1;33m(\u001b[0m\u001b[1;36m3\u001b[0m\u001b[1;33m)\u001b[0m\u001b[1;33m)\u001b[0m\u001b[1;33m\u001b[0m\u001b[1;33m\u001b[0m\u001b[0m\n\u001b[1;32m----> 4\u001b[1;33m \u001b[0mprint\u001b[0m\u001b[1;33m(\u001b[0m\u001b[0mmath\u001b[0m\u001b[1;33m.\u001b[0m\u001b[0mlcm\u001b[0m\u001b[1;33m(\u001b[0m\u001b[1;36m2\u001b[0m\u001b[1;33m,\u001b[0m\u001b[1;36m4\u001b[0m\u001b[1;33m,\u001b[0m\u001b[1;36m6\u001b[0m\u001b[1;33m,\u001b[0m\u001b[1;36m7\u001b[0m\u001b[1;33m,\u001b[0m\u001b[1;36m8\u001b[0m\u001b[1;33m)\u001b[0m\u001b[1;33m)\u001b[0m\u001b[1;33m\u001b[0m\u001b[1;33m\u001b[0m\u001b[0m\n\u001b[0m",
      "\u001b[1;31mAttributeError\u001b[0m: module 'math' has no attribute 'lcm'"
     ]
    }
   ],
   "source": [
    "import math \n",
    "print(math.ceil(1.2))\n",
    "print(math.factorial(3))\n",
    "print(math.lcm(2,4,6,7,8))"
   ]
  },
  {
   "cell_type": "code",
   "execution_count": null,
   "metadata": {},
   "outputs": [],
   "source": [
    "turboslayer@gmail.com\n",
    "someone@outlook.com\n",
    "crashtv@gov.in\n",
    "blue_defender@gmail.com\n",
    "logan@yahoo.com\n",
    "ironmerc@gov.in\n",
    "steeltitan@outlook.com\n",
    "stealthedefender@yahoo.com\n",
    "blaze_assault@gov.in\n",
    "venom_fate@yahoo.com\n",
    "dark_side@yahoo.com\n",
    "fataldestiny@yahoo.com\n",
    "ultimatebeast@outlook.com\n",
    "masked_titan@gmail.com\n",
    "frozen_gunner@yahoo.com\n",
    "username_copied@gov.in\n",
    "whos_ur_buddy@outlook.com\n",
    "unfinished_sentenc@gov.in\n",
    "all_gone@gov.in\n",
    "something@gmail.com\n",
    "president@gmail.com\n",
    "tinfoilhat@gmail.com\n",
    "anonymouse@yahoo.com"
   ]
  },
  {
   "cell_type": "code",
   "execution_count": 10,
   "metadata": {},
   "outputs": [
    {
     "name": "stdout",
     "output_type": "stream",
     "text": [
      "Username : dikshaprasad66\n",
      "Domain  :  gmail\n",
      "Type  : com\n"
     ]
    }
   ],
   "source": [
    "def email_splitter(email):\n",
    "    username = email.split('@')[0]\n",
    "    domain = email.split('@')[1]\n",
    "    domain_name = domain.split('.')[0]\n",
    "    domain_type = domain.split('.')[1]\n",
    "    \n",
    "    print('Username :',username)\n",
    "    print('Domain  : ',domain_name)\n",
    "    print('Type  :',domain_type)\n",
    "    \n",
    "    \n",
    "    \n",
    "email_splitter('dikshaprasad66@gmail.com')\n"
   ]
  },
  {
   "cell_type": "code",
   "execution_count": 14,
   "metadata": {},
   "outputs": [
    {
     "name": "stdout",
     "output_type": "stream",
     "text": [
      "Username : dikshaprasad66\n",
      "Domain  :  gmail.com\n"
     ]
    }
   ],
   "source": [
    "def email_splitter(email):\n",
    "    username = email.split('@')[0]\n",
    "    domain = email.split('@')[1]\n",
    "    \n",
    "    print('Username :',username)\n",
    "    print('Domain  : ',domain)\n",
    "    \n",
    "    \n",
    "    \n",
    "email_splitter('dikshaprasad66@gmail.com')\n"
   ]
  },
  {
   "cell_type": "code",
   "execution_count": null,
   "metadata": {},
   "outputs": [],
   "source": [
    "\n",
    "def email_splitter(email_id):\n",
    "    email_id =input(\"Enter the gmail id\")\n",
    "    username = email.split('@')[0]\n",
    "    domain = email.split('@')[1]\n",
    "    \n",
    "    print('Username :',username)\n",
    "    print('Domain  : ',domain)\n",
    "    \n",
    "    \n",
    "    \n",
    "email_splitter(\"email_id\")\n",
    "\n"
   ]
  },
  {
   "cell_type": "code",
   "execution_count": 2,
   "metadata": {},
   "outputs": [
    {
     "ename": "IndentationError",
     "evalue": "unindent does not match any outer indentation level (<tokenize>, line 3)",
     "output_type": "error",
     "traceback": [
      "\u001b[1;36m  File \u001b[1;32m\"<tokenize>\"\u001b[1;36m, line \u001b[1;32m3\u001b[0m\n\u001b[1;33m    domain = my_dict.split('@')[1]\u001b[0m\n\u001b[1;37m    ^\u001b[0m\n\u001b[1;31mIndentationError\u001b[0m\u001b[1;31m:\u001b[0m unindent does not match any outer indentation level\n"
     ]
    }
   ],
   "source": [
    "my_dict = input(\"Enter the email id :\")\n",
    "     username = my_dict.split('@')[0]\n",
    "    domain = my_dict.split('@')[1]\n",
    "    print('Username :',username)\n",
    "    print('Domain :',domain)"
   ]
  },
  {
   "cell_type": "code",
   "execution_count": 12,
   "metadata": {},
   "outputs": [
    {
     "ename": "IndentationError",
     "evalue": "unexpected indent (<ipython-input-12-5aab7ff5f62a>, line 8)",
     "output_type": "error",
     "traceback": [
      "\u001b[1;36m  File \u001b[1;32m\"<ipython-input-12-5aab7ff5f62a>\"\u001b[1;36m, line \u001b[1;32m8\u001b[0m\n\u001b[1;33m    username = str.split('@')[0]\u001b[0m\n\u001b[1;37m    ^\u001b[0m\n\u001b[1;31mIndentationError\u001b[0m\u001b[1;31m:\u001b[0m unexpected indent\n"
     ]
    }
   ],
   "source": [
    "dict = {}\n",
    "\n",
    "print(\"How many email ids to take\",end='')\n",
    "n= int(input())\n",
    "for i in range(n):\n",
    "    print(\"Enter the gmail id\" , end='')\n",
    "    str = input()\n",
    "        username = str.split('@')[0]\n",
    "        domain = str.split('@')[1]\n",
    "print(\"Username :\",username)\n",
    "print(\"Domain :\",domain)\n",
    "    "
   ]
  },
  {
   "cell_type": "markdown",
   "metadata": {},
   "source": [
    "\n",
    "Assignment Question 2\n",
    "\n",
    "\n",
    "#why python is slightly faster than list ??\n",
    "\n",
    "In python there are two objects\n",
    "\n",
    "1. Mutable, 2. Immutable. In python lists **comes under mutable objects and **tuples comes under immutable objects.\n",
    "\n",
    "Tuples are stored in a single block of memory. Tuples are immutable so, \n",
    "It doesn't require extra space to store new objects.\n",
    "\n",
    "Lists are allocated in two blocks: the fixed one with all the Python object information and a variable sized block for \n",
    "    the data.\n",
    "It is the reason creating a tuple is faster than List.\n",
    "\n",
    "It also explains the slight difference in indexing speed is faster than lists, because in tuples for indexing it\n",
    "follows fewer pointers.\n",
    "\n",
    "Advantages using tuples:¶\n",
    "    \n",
    "        Tuples is that they use less memory where lists use more memory\n",
    "\n",
    "        We can use tuples in a dictionary as a key but it's not possible with lists\n",
    "\n",
    "        We can access element with an index in both tuples and lists\n",
    "\n",
    "¶Disadvantages of tuple\n",
    "\n",
    "          We cannot add an element to tuple but we can add element to list.\n",
    "\n",
    "          We can't sort a tuple but in a list we can sort by calling \"list.sort()\" method.\n",
    "\n",
    "          We can't remove an element in tuple but in list we can remove element\n",
    "\n",
    "          We can't replace an element in tuple but you can in a list"
   ]
  },
  {
   "cell_type": "code",
   "execution_count": null,
   "metadata": {},
   "outputs": [],
   "source": []
  },
  {
   "cell_type": "code",
   "execution_count": null,
   "metadata": {},
   "outputs": [],
   "source": []
  },
  {
   "cell_type": "code",
   "execution_count": null,
   "metadata": {},
   "outputs": [],
   "source": []
  },
  {
   "cell_type": "code",
   "execution_count": null,
   "metadata": {},
   "outputs": [],
   "source": []
  },
  {
   "cell_type": "code",
   "execution_count": null,
   "metadata": {},
   "outputs": [],
   "source": []
  },
  {
   "cell_type": "code",
   "execution_count": null,
   "metadata": {},
   "outputs": [],
   "source": []
  },
  {
   "cell_type": "code",
   "execution_count": null,
   "metadata": {},
   "outputs": [],
   "source": []
  },
  {
   "cell_type": "code",
   "execution_count": null,
   "metadata": {},
   "outputs": [],
   "source": []
  },
  {
   "cell_type": "code",
   "execution_count": null,
   "metadata": {},
   "outputs": [],
   "source": []
  },
  {
   "cell_type": "code",
   "execution_count": null,
   "metadata": {},
   "outputs": [],
   "source": []
  },
  {
   "cell_type": "code",
   "execution_count": null,
   "metadata": {},
   "outputs": [],
   "source": []
  },
  {
   "cell_type": "code",
   "execution_count": null,
   "metadata": {},
   "outputs": [],
   "source": []
  },
  {
   "cell_type": "code",
   "execution_count": null,
   "metadata": {},
   "outputs": [],
   "source": []
  },
  {
   "cell_type": "code",
   "execution_count": null,
   "metadata": {},
   "outputs": [],
   "source": []
  }
 ],
 "metadata": {
  "kernelspec": {
   "display_name": "Python 3",
   "language": "python",
   "name": "python3"
  },
  "language_info": {
   "codemirror_mode": {
    "name": "ipython",
    "version": 3
   },
   "file_extension": ".py",
   "mimetype": "text/x-python",
   "name": "python",
   "nbconvert_exporter": "python",
   "pygments_lexer": "ipython3",
   "version": "3.8.5"
  }
 },
 "nbformat": 4,
 "nbformat_minor": 4
}
